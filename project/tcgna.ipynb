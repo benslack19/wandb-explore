{
 "cells": [
  {
   "cell_type": "markdown",
   "id": "ee7a2ed2-35b5-424f-8e02-ace1b5c77e8a",
   "metadata": {},
   "source": [
    "# wandb exploration\n",
    "\n",
    "The purpose of this notebook is to explore the use of Weights and Biases, following the [quick start](https://docs.wandb.ai/quickstart/?_gl=1*plij22*_ga*NzU4MzY4NzYzLjE3MzM0NjA1MzA.*_ga_JH1SJHJQXJ*MTczMzQ2MDUzMC4xLjEuMTczMzQ2MDkyMi42MC4wLjA.*_ga_GMYDGNGKDT*MTczMzQ2MDUzMC4xLjEuMTczMzQ2MDkxNC4wLjAuMA..*_gcl_au*MTUxNTU5NzY5Ny4xNzMzNDYwNTMw)."
   ]
  },
  {
   "cell_type": "code",
   "execution_count": 4,
   "id": "75f5008c-3437-488e-ab9c-133ba6a8f3b4",
   "metadata": {
    "execution": {
     "iopub.execute_input": "2024-12-06T05:27:53.759943Z",
     "iopub.status.busy": "2024-12-06T05:27:53.759210Z",
     "iopub.status.idle": "2024-12-06T05:27:55.056829Z",
     "shell.execute_reply": "2024-12-06T05:27:55.056404Z",
     "shell.execute_reply.started": "2024-12-06T05:27:53.759880Z"
    }
   },
   "outputs": [],
   "source": [
    "import wandb"
   ]
  },
  {
   "cell_type": "markdown",
   "id": "adacf8ce-d903-4d56-847d-8ce505485e64",
   "metadata": {},
   "source": [
    "# Run quick start"
   ]
  },
  {
   "cell_type": "code",
   "execution_count": 5,
   "id": "7aceeec7-27ef-4526-9fa9-3200319db3db",
   "metadata": {
    "execution": {
     "iopub.execute_input": "2024-12-06T05:30:40.855023Z",
     "iopub.status.busy": "2024-12-06T05:30:40.854395Z",
     "iopub.status.idle": "2024-12-06T05:30:54.111910Z",
     "shell.execute_reply": "2024-12-06T05:30:54.111294Z",
     "shell.execute_reply.started": "2024-12-06T05:30:40.854960Z"
    }
   },
   "outputs": [
    {
     "name": "stderr",
     "output_type": "stream",
     "text": [
      "\u001b[34m\u001b[1mwandb\u001b[0m: Using wandb-core as the SDK backend.  Please refer to https://wandb.me/wandb-core for more information.\n",
      "\u001b[34m\u001b[1mwandb\u001b[0m: Logging into wandb.ai. (Learn how to deploy a W&B server locally: https://wandb.me/wandb-server)\n",
      "\u001b[34m\u001b[1mwandb\u001b[0m: You can find your API key in your browser here: https://wandb.ai/authorize\n",
      "\u001b[34m\u001b[1mwandb\u001b[0m: Paste an API key from your profile and hit enter, or press ctrl+c to quit:"
     ]
    },
    {
     "name": "stdin",
     "output_type": "stream",
     "text": [
      "  ········\n"
     ]
    },
    {
     "name": "stderr",
     "output_type": "stream",
     "text": [
      "\u001b[34m\u001b[1mwandb\u001b[0m: Appending key for api.wandb.ai to your netrc file: /Users/benlacar/.netrc\n"
     ]
    },
    {
     "data": {
      "text/plain": [
       "True"
      ]
     },
     "execution_count": 5,
     "metadata": {},
     "output_type": "execute_result"
    }
   ],
   "source": [
    "wandb.login()"
   ]
  },
  {
   "cell_type": "code",
   "execution_count": 6,
   "id": "eac1edaa-81a2-4a7e-b641-00bd4273115c",
   "metadata": {
    "execution": {
     "iopub.execute_input": "2024-12-06T05:31:10.417365Z",
     "iopub.status.busy": "2024-12-06T05:31:10.415964Z",
     "iopub.status.idle": "2024-12-06T05:31:11.665384Z",
     "shell.execute_reply": "2024-12-06T05:31:11.664984Z",
     "shell.execute_reply.started": "2024-12-06T05:31:10.417304Z"
    }
   },
   "outputs": [
    {
     "name": "stderr",
     "output_type": "stream",
     "text": [
      "\u001b[34m\u001b[1mwandb\u001b[0m: Currently logged in as: \u001b[33mbenslack19\u001b[0m (\u001b[33mbenslack19-self\u001b[0m). Use \u001b[1m`wandb login --relogin`\u001b[0m to force relogin\n"
     ]
    },
    {
     "data": {
      "text/html": [
       "Tracking run with wandb version 0.19.0"
      ],
      "text/plain": [
       "<IPython.core.display.HTML object>"
      ]
     },
     "metadata": {},
     "output_type": "display_data"
    },
    {
     "data": {
      "text/html": [
       "Run data is saved locally in <code>/Users/benlacar/Documents/career/data_science/repos/wandb-explore/wandb/run-20241205_213110-y84chb6w</code>"
      ],
      "text/plain": [
       "<IPython.core.display.HTML object>"
      ]
     },
     "metadata": {},
     "output_type": "display_data"
    },
    {
     "data": {
      "text/html": [
       "Syncing run <strong><a href='https://wandb.ai/benslack19-self/my-awesome-project/runs/y84chb6w' target=\"_blank\">feasible-frog-1</a></strong> to <a href='https://wandb.ai/benslack19-self/my-awesome-project' target=\"_blank\">Weights & Biases</a> (<a href='https://wandb.me/developer-guide' target=\"_blank\">docs</a>)<br/>"
      ],
      "text/plain": [
       "<IPython.core.display.HTML object>"
      ]
     },
     "metadata": {},
     "output_type": "display_data"
    },
    {
     "data": {
      "text/html": [
       " View project at <a href='https://wandb.ai/benslack19-self/my-awesome-project' target=\"_blank\">https://wandb.ai/benslack19-self/my-awesome-project</a>"
      ],
      "text/plain": [
       "<IPython.core.display.HTML object>"
      ]
     },
     "metadata": {},
     "output_type": "display_data"
    },
    {
     "data": {
      "text/html": [
       " View run at <a href='https://wandb.ai/benslack19-self/my-awesome-project/runs/y84chb6w' target=\"_blank\">https://wandb.ai/benslack19-self/my-awesome-project/runs/y84chb6w</a>"
      ],
      "text/plain": [
       "<IPython.core.display.HTML object>"
      ]
     },
     "metadata": {},
     "output_type": "display_data"
    }
   ],
   "source": [
    "run = wandb.init(\n",
    "    # Set the project where this run will be logged\n",
    "    project=\"my-awesome-project\",\n",
    "    # Track hyperparameters and run metadata\n",
    "    config={\n",
    "        \"learning_rate\": 0.01,\n",
    "        \"epochs\": 10,\n",
    "    },\n",
    ")"
   ]
  },
  {
   "cell_type": "code",
   "execution_count": 9,
   "id": "5c5a1d8b-a891-406e-a25f-6af572e8e94a",
   "metadata": {
    "execution": {
     "iopub.execute_input": "2024-12-06T05:45:22.773165Z",
     "iopub.status.busy": "2024-12-06T05:45:22.771329Z",
     "iopub.status.idle": "2024-12-06T05:45:22.809208Z",
     "shell.execute_reply": "2024-12-06T05:45:22.807498Z",
     "shell.execute_reply.started": "2024-12-06T05:45:22.773101Z"
    }
   },
   "outputs": [
    {
     "name": "stderr",
     "output_type": "stream",
     "text": [
      "\u001b[34m\u001b[1mwandb\u001b[0m: \u001b[33mWARNING\u001b[0m Calling wandb.login() after wandb.init() has no effect.\n"
     ]
    },
    {
     "name": "stdout",
     "output_type": "stream",
     "text": [
      "lr: 0.01\n",
      "epoch=2, accuracy=0.39077614965655927, loss=0.42465757790786096\n",
      "epoch=3, accuracy=0.5793069813839529, loss=0.40045406666139094\n",
      "epoch=4, accuracy=0.7569201383804353, loss=0.43469313869166704\n",
      "epoch=5, accuracy=0.6330842043062369, loss=0.23222180389233693\n",
      "epoch=6, accuracy=0.7289425020942291, loss=0.25788110512560247\n",
      "epoch=7, accuracy=0.7924265661406995, loss=0.27971094359898496\n",
      "epoch=8, accuracy=0.7472078685632099, loss=0.16951062213499507\n",
      "epoch=9, accuracy=0.7557763101533337, loss=0.16531536937785601\n"
     ]
    }
   ],
   "source": [
    "# train.py\n",
    "import random  # for demo script\n",
    "\n",
    "epochs = 10\n",
    "lr = 0.01\n",
    "\n",
    "run = wandb.init(\n",
    "    # Set the project where this run will be logged\n",
    "    project=\"my-awesome-project\",\n",
    "    # Track hyperparameters and run metadata\n",
    "    config={\n",
    "        \"learning_rate\": lr,\n",
    "        \"epochs\": epochs,\n",
    "    },\n",
    ")\n",
    "\n",
    "offset = random.random() / 5\n",
    "print(f\"lr: {lr}\")\n",
    "\n",
    "# simulating a training run\n",
    "for epoch in range(2, epochs):\n",
    "    acc = 1 - 2**-epoch - random.random() / epoch - offset\n",
    "    loss = 2**-epoch + random.random() / epoch + offset\n",
    "    print(f\"epoch={epoch}, accuracy={acc}, loss={loss}\")\n",
    "    wandb.log({\"accuracy\": acc, \"loss\": loss})\n",
    "\n",
    "# run.log_code()"
   ]
  },
  {
   "cell_type": "code",
   "execution_count": null,
   "id": "3fa55906-4cad-461d-8704-c721128f9210",
   "metadata": {},
   "outputs": [],
   "source": []
  },
  {
   "cell_type": "code",
   "execution_count": 8,
   "id": "e278d339-d981-43da-8b42-9346a69f2767",
   "metadata": {
    "execution": {
     "iopub.execute_input": "2024-12-06T05:37:05.360574Z",
     "iopub.status.busy": "2024-12-06T05:37:05.359434Z",
     "iopub.status.idle": "2024-12-06T05:37:05.383308Z",
     "shell.execute_reply": "2024-12-06T05:37:05.382726Z",
     "shell.execute_reply.started": "2024-12-06T05:37:05.360523Z"
    }
   },
   "outputs": [
    {
     "name": "stdout",
     "output_type": "stream",
     "text": [
      "The watermark extension is already loaded. To reload it, use:\n",
      "  %reload_ext watermark\n",
      "Last updated: Thu Dec 05 2024\n",
      "\n",
      "Python implementation: CPython\n",
      "Python version       : 3.11.11\n",
      "IPython version      : 8.30.0\n",
      "\n",
      "pandas    : 2.2.3\n",
      "wandb     : 0.19.0\n",
      "seaborn   : 0.13.2\n",
      "matplotlib: 3.9.2\n",
      "numpy     : 2.0.2\n",
      "\n",
      "Watermark: 2.5.0\n",
      "\n"
     ]
    }
   ],
   "source": [
    "%load_ext watermark\n",
    "%watermark -n -u -v -iv -w"
   ]
  }
 ],
 "metadata": {
  "kernelspec": {
   "display_name": "Python 3 (ipykernel)",
   "language": "python",
   "name": "python3"
  },
  "language_info": {
   "codemirror_mode": {
    "name": "ipython",
    "version": 3
   },
   "file_extension": ".py",
   "mimetype": "text/x-python",
   "name": "python",
   "nbconvert_exporter": "python",
   "pygments_lexer": "ipython3",
   "version": "3.11.11"
  }
 },
 "nbformat": 4,
 "nbformat_minor": 5
}
